{
 "cells": [
  {
   "cell_type": "code",
   "execution_count": null,
   "metadata": {},
   "outputs": [],
   "source": [
    "import gymnasium as gym\n",
    "import torch\n",
    "from stable_baselines3 import PPO\n",
    "\n",
    "env = gym.make('merge-v0', render_mode='rgb_array')\n",
    "# env.config['right_lane_reward'] = 2\n",
    "# env.config['lane_change_reward'] = 4\n",
    "# env.config['collision_reward'] = -10\n",
    "# env.config['reward_speed_range'] = [0, 10]"
   ]
  },
  {
   "cell_type": "markdown",
   "metadata": {},
   "source": [
    "Primena PPO algoritma za treniranje agenta za iste situacije unutar highway-env."
   ]
  },
  {
   "cell_type": "code",
   "execution_count": null,
   "metadata": {},
   "outputs": [],
   "source": [
    "\n",
    "model = PPO(\n",
    "  policy='MlpPolicy',\n",
    "  policy_kwargs=dict(net_arch=[256, 256]),\n",
    "  n_steps=2048,\n",
    "  n_epochs=100,\n",
    "  env=env,\n",
    "  batch_size=256,\n",
    "  verbose=1,\n",
    "  learning_rate=5e-3,\n",
    "  tensorboard_log=\"highway_ppo/\",\n",
    "  device=\"cuda\"\n",
    ")\n",
    "\n",
    "model.learn(total_timesteps = 20000, progress_bar=True)\n",
    "model.save(\"highway_ppo/merge/model\")"
   ]
  },
  {
   "cell_type": "markdown",
   "metadata": {},
   "source": [
    "Inicijalizacija modela i puštanja u rad u datom okruženju uz prikaz odgovarajućih metrika."
   ]
  },
  {
   "cell_type": "code",
   "execution_count": null,
   "metadata": {},
   "outputs": [],
   "source": [
    "model = PPO.load(\"highway_ppo/merge/model\")\n",
    "while True:\n",
    "  done = truncated = False\n",
    "  obs, info = env.reset()\n",
    "  while not (done or truncated):\n",
    "    action, _states = model.predict(obs, deterministic=True)\n",
    "    obs, reward, done, truncated, info = env.step(action)\n",
    "    env.render()"
   ]
  }
 ],
 "metadata": {
  "kernelspec": {
   "display_name": "Python 3",
   "language": "python",
   "name": "python3"
  },
  "language_info": {
   "codemirror_mode": {
    "name": "ipython",
    "version": 3
   },
   "file_extension": ".py",
   "mimetype": "text/x-python",
   "name": "python",
   "nbconvert_exporter": "python",
   "pygments_lexer": "ipython3",
   "version": "3.8.10"
  }
 },
 "nbformat": 4,
 "nbformat_minor": 2
}
