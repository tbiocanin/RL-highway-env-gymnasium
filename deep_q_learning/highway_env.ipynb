{
 "cells": [
  {
   "cell_type": "markdown",
   "metadata": {},
   "source": [
    "Test skripta koja prikazuje rezultate rada rucne implementacije u poredjenju sa off-the-shelf implementacijom DQN algoritma u modelu autoputa."
   ]
  },
  {
   "cell_type": "code",
   "execution_count": 1,
   "metadata": {},
   "outputs": [],
   "source": [
    "import gymnasium as gym\n",
    "import torch\n",
    "import matplotlib.pyplot as plt\n",
    "import numpy as np\n",
    "from stable_baselines3 import PPO\n",
    "\n",
    "env = gym.make('highway-fast-v0', render_mode='rgb_array')\n",
    "obs, info = env.reset()"
   ]
  },
  {
   "cell_type": "code",
   "execution_count": 2,
   "metadata": {},
   "outputs": [],
   "source": [
    "def plot_graph(x_axis, x_label, y_label, file_name, title, fig_no):\n",
    "    plt.figure(figsize=(12, 5))\n",
    "    plt.plot(x_axis)\n",
    "    plt.xlabel(x_label)\n",
    "    plt.ylabel(y_label)\n",
    "    plt.title(title)"
   ]
  },
  {
   "cell_type": "code",
   "execution_count": 3,
   "metadata": {},
   "outputs": [],
   "source": [
    "def moving_average(values, window):\n",
    "    weights = np.repeat(1.0, window) / window\n",
    "    sma = np.convolve(values, weights, 'valid')\n",
    "    return sma"
   ]
  },
  {
   "cell_type": "code",
   "execution_count": null,
   "metadata": {
    "metadata": {}
   },
   "outputs": [],
   "source": [
    "env.config['right_lane_reward'] = 0.76\n",
    "env.config['lane_change_reward'] = 0.15\n",
    "env.config['collision_reward'] = -0.1\n",
    "env.config['reward_speed_range'] = [20, 30]\n",
    "env.config['normalize_reward'] = False\n",
    "\n",
    "model = torch.load(\"out/stable/model2_debugged/model.pt\")\n",
    "\n",
    "rewards_avg = []\n",
    "rewards = []\n",
    "eps = []\n",
    "ep_cnt_ = 0\n",
    "for i in range(500):\n",
    "  done = truncated = False\n",
    "  obs, info = env.reset()\n",
    "  cnt = 1\n",
    "  reward_ = 0\n",
    "  ep_cnt_ += 1\n",
    "  # print(ep_cnt_)\n",
    "  eps.append(ep_cnt_)\n",
    "  while not (done or truncated):\n",
    "    action = model.action_to_take(obs, env)\n",
    "    obs, reward, done, truncated, info = env.step(action)\n",
    "    reward_ += reward\n",
    "    cnt += 1\n",
    "    # env.render()\n",
    "  rewards.append(reward_)\n",
    "  rewards_avg.append(reward_/cnt)\n",
    "plot_graph(moving_average(rewards, 50), \"eps\", \"rewards\", \"model test\", \"Test\", 0)\n",
    "plot_graph(moving_average(rewards_avg, 50), \"eps\", \"rewards\", \"model test\", \"Test\", 1)"
   ]
  },
  {
   "cell_type": "code",
   "execution_count": 4,
   "metadata": {},
   "outputs": [
    {
     "name": "stdout",
     "output_type": "stream",
     "text": [
      "Using cuda device\n",
      "Wrapping the env with a `Monitor` wrapper\n",
      "Wrapping the env in a DummyVecEnv.\n",
      "Logging to highway_dqn/DQN_8\n"
     ]
    },
    {
     "data": {
      "application/vnd.jupyter.widget-view+json": {
       "model_id": "ff0d56aa84fa4f6594cc38af0d2f8434",
       "version_major": 2,
       "version_minor": 0
      },
      "text/plain": [
       "Output()"
      ]
     },
     "metadata": {},
     "output_type": "display_data"
    },
    {
     "name": "stdout",
     "output_type": "stream",
     "text": [
      "----------------------------------\n",
      "| rollout/            |          |\n",
      "|    ep_len_mean      | 15       |\n",
      "|    ep_rew_mean      | 11.1     |\n",
      "|    exploration_rate | 0.782    |\n",
      "| time/               |          |\n",
      "|    episodes         | 4        |\n",
      "|    fps              | 26       |\n",
      "|    time_elapsed     | 2        |\n",
      "|    total_timesteps  | 60       |\n",
      "----------------------------------\n"
     ]
    },
    {
     "name": "stdout",
     "output_type": "stream",
     "text": [
      "----------------------------------\n",
      "| rollout/            |          |\n",
      "|    ep_len_mean      | 14.2     |\n",
      "|    ep_rew_mean      | 10.5     |\n",
      "|    exploration_rate | 0.766    |\n",
      "| time/               |          |\n",
      "|    episodes         | 8        |\n",
      "|    fps              | 27       |\n",
      "|    time_elapsed     | 4        |\n",
      "|    total_timesteps  | 114      |\n",
      "----------------------------------\n"
     ]
    },
    {
     "name": "stdout",
     "output_type": "stream",
     "text": [
      "----------------------------------\n",
      "| rollout/            |          |\n",
      "|    ep_len_mean      | 13.9     |\n",
      "|    ep_rew_mean      | 10.2     |\n",
      "|    exploration_rate | 0.75     |\n",
      "| time/               |          |\n",
      "|    episodes         | 12       |\n",
      "|    fps              | 28       |\n",
      "|    time_elapsed     | 5        |\n",
      "|    total_timesteps  | 167      |\n",
      "----------------------------------\n"
     ]
    },
    {
     "name": "stdout",
     "output_type": "stream",
     "text": [
      "----------------------------------\n",
      "| rollout/            |          |\n",
      "|    ep_len_mean      | 11.7     |\n",
      "|    ep_rew_mean      | 8.5      |\n",
      "|    exploration_rate | 0.744    |\n",
      "| time/               |          |\n",
      "|    episodes         | 16       |\n",
      "|    fps              | 28       |\n",
      "|    time_elapsed     | 6        |\n",
      "|    total_timesteps  | 187      |\n",
      "----------------------------------\n"
     ]
    },
    {
     "name": "stdout",
     "output_type": "stream",
     "text": [
      "----------------------------------\n",
      "| rollout/            |          |\n",
      "|    ep_len_mean      | 10.9     |\n",
      "|    ep_rew_mean      | 7.98     |\n",
      "|    exploration_rate | 0.734    |\n",
      "| time/               |          |\n",
      "|    episodes         | 20       |\n",
      "|    fps              | 27       |\n",
      "|    time_elapsed     | 7        |\n",
      "|    total_timesteps  | 219      |\n",
      "----------------------------------\n"
     ]
    },
    {
     "name": "stdout",
     "output_type": "stream",
     "text": [
      "----------------------------------\n",
      "| rollout/            |          |\n",
      "|    ep_len_mean      | 10.8     |\n",
      "|    ep_rew_mean      | 7.99     |\n",
      "|    exploration_rate | 0.722    |\n",
      "| time/               |          |\n",
      "|    episodes         | 24       |\n",
      "|    fps              | 27       |\n",
      "|    time_elapsed     | 9        |\n",
      "|    total_timesteps  | 260      |\n",
      "----------------------------------\n"
     ]
    },
    {
     "name": "stdout",
     "output_type": "stream",
     "text": [
      "----------------------------------\n",
      "| rollout/            |          |\n",
      "|    ep_len_mean      | 10.9     |\n",
      "|    ep_rew_mean      | 8.06     |\n",
      "|    exploration_rate | 0.709    |\n",
      "| time/               |          |\n",
      "|    episodes         | 28       |\n",
      "|    fps              | 28       |\n",
      "|    time_elapsed     | 10       |\n",
      "|    total_timesteps  | 304      |\n",
      "----------------------------------\n"
     ]
    },
    {
     "name": "stdout",
     "output_type": "stream",
     "text": [
      "----------------------------------\n",
      "| rollout/            |          |\n",
      "|    ep_len_mean      | 10.2     |\n",
      "|    ep_rew_mean      | 7.64     |\n",
      "|    exploration_rate | 0.702    |\n",
      "| time/               |          |\n",
      "|    episodes         | 32       |\n",
      "|    fps              | 28       |\n",
      "|    time_elapsed     | 11       |\n",
      "|    total_timesteps  | 327      |\n",
      "----------------------------------\n"
     ]
    },
    {
     "name": "stdout",
     "output_type": "stream",
     "text": [
      "----------------------------------\n",
      "| rollout/            |          |\n",
      "|    ep_len_mean      | 10.1     |\n",
      "|    ep_rew_mean      | 7.47     |\n",
      "|    exploration_rate | 0.691    |\n",
      "| time/               |          |\n",
      "|    episodes         | 36       |\n",
      "|    fps              | 28       |\n",
      "|    time_elapsed     | 12       |\n",
      "|    total_timesteps  | 362      |\n",
      "----------------------------------\n"
     ]
    },
    {
     "name": "stdout",
     "output_type": "stream",
     "text": [
      "----------------------------------\n",
      "| rollout/            |          |\n",
      "|    ep_len_mean      | 10.2     |\n",
      "|    ep_rew_mean      | 7.59     |\n",
      "|    exploration_rate | 0.678    |\n",
      "| time/               |          |\n",
      "|    episodes         | 40       |\n",
      "|    fps              | 27       |\n",
      "|    time_elapsed     | 14       |\n",
      "|    total_timesteps  | 408      |\n",
      "----------------------------------\n"
     ]
    },
    {
     "name": "stdout",
     "output_type": "stream",
     "text": [
      "----------------------------------\n",
      "| rollout/            |          |\n",
      "|    ep_len_mean      | 10.7     |\n",
      "|    ep_rew_mean      | 7.92     |\n",
      "|    exploration_rate | 0.659    |\n",
      "| time/               |          |\n",
      "|    episodes         | 44       |\n",
      "|    fps              | 28       |\n",
      "|    time_elapsed     | 16       |\n",
      "|    total_timesteps  | 471      |\n",
      "----------------------------------\n"
     ]
    }
   ],
   "source": [
    "from stable_baselines3 import DQN\n",
    "env_2 = gym.make('highway-fast-v0', render_mode='rgb_array')\n",
    "model = DQN('MlpPolicy', env_2,\n",
    "              policy_kwargs=dict(net_arch=[256, 256]),\n",
    "              learning_rate=5e-4,\n",
    "              buffer_size=15000,\n",
    "              learning_starts=3000,\n",
    "              batch_size=128,\n",
    "              gamma=0.99,\n",
    "              train_freq=1,\n",
    "              gradient_steps=1,\n",
    "              target_update_interval=50,\n",
    "              verbose=1,\n",
    "              tensorboard_log=\"highway_dqn/\",\n",
    "              exploration_initial_eps = 0.9,\n",
    "              exploration_final_eps = 0.65\n",
    "            )\n",
    "\n",
    "model.learn(10000, progress_bar=True)\n",
    "model.save(\"highway_dqn/model\")"
   ]
  },
  {
   "cell_type": "code",
   "execution_count": 61,
   "metadata": {},
   "outputs": [
    {
     "name": "stdout",
     "output_type": "stream",
     "text": [
      "0\n",
      "1\n",
      "2\n",
      "3\n",
      "4\n",
      "5\n",
      "6\n",
      "7\n",
      "8\n",
      "9\n",
      "10\n",
      "11\n",
      "12\n",
      "13\n",
      "14\n",
      "15\n",
      "16\n",
      "17\n",
      "18\n",
      "19\n",
      "20\n",
      "21\n",
      "22\n",
      "23\n",
      "24\n",
      "25\n",
      "26\n",
      "27\n",
      "28\n",
      "29\n",
      "30\n",
      "31\n",
      "32\n",
      "33\n",
      "34\n",
      "35\n",
      "36\n",
      "37\n",
      "38\n",
      "39\n",
      "40\n",
      "41\n",
      "42\n",
      "43\n",
      "44\n",
      "45\n",
      "46\n",
      "47\n",
      "48\n",
      "49\n",
      "50\n",
      "51\n",
      "52\n",
      "53\n"
     ]
    }
   ],
   "source": [
    "model.load(\"highway_dqn/model\")\n",
    "rewards_off_the_shelf = []\n",
    "for i in range(500):\n",
    "    done = truncated = False\n",
    "    obs, info = env.reset()\n",
    "    rewards_in_scope = 0\n",
    "    while not (done or truncated):\n",
    "        action, _ = model.predict(obs, deterministic=True)\n",
    "        _, rewards, done, truncated, _ = env.step(action)\n",
    "        rewards_in_scope += rewards\n",
    "        env.render()\n",
    "    print(i)\n",
    "    rewards_off_the_shelf.append(rewards_in_scope)\n",
    "\n",
    "plot_graph(moving_average(rewards_off_the_shelf, 50), \"Episodes\", \"Moving average\", None, \"Off the shelf rewards\", None)"
   ]
  },
  {
   "cell_type": "code",
   "execution_count": null,
   "metadata": {},
   "outputs": [],
   "source": [
    "model = PPO.load(\"highway_ppo/model\")\n",
    "for i in range(1000):\n",
    "  done = truncated = False\n",
    "  obs, info = env.reset()\n",
    "  while not (done or truncated):\n",
    "    action, _states = model.predict(obs, deterministic=True)\n",
    "    obs, reward, done, truncated, info = env.step(action)\n",
    "    env.render()"
   ]
  }
 ],
 "metadata": {
  "kernelspec": {
   "display_name": "Python 3",
   "language": "python",
   "name": "python3"
  },
  "language_info": {
   "codemirror_mode": {
    "name": "ipython",
    "version": 3
   },
   "file_extension": ".py",
   "mimetype": "text/x-python",
   "name": "python",
   "nbconvert_exporter": "python",
   "pygments_lexer": "ipython3",
   "version": "3.8.10"
  }
 },
 "nbformat": 4,
 "nbformat_minor": 2
}
