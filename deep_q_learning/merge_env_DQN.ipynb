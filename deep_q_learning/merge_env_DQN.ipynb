{
 "cells": [
  {
   "cell_type": "markdown",
   "metadata": {},
   "source": [
    "Test skripta koja prikazuje rezultate rada rucne implementacije u poredjenju sa off-the-shelf implementacijom DQN algoritma u modelu ukljucenja na autoput."
   ]
  },
  {
   "cell_type": "code",
   "execution_count": 11,
   "metadata": {},
   "outputs": [],
   "source": [
    "import gymnasium as gym\n",
    "import torch\n",
    "import matplotlib.pyplot as plt\n",
    "import numpy as np\n",
    "from DQN import DQN\n",
    "\n",
    "env = gym.make('merge-v0', render_mode='rgb_array')\n",
    "obs, info = env.reset()"
   ]
  },
  {
   "cell_type": "markdown",
   "metadata": {},
   "source": [
    "Pomoćna funkcija koja se koristi za prikazivanje trenda nagrada tokom rada agenta."
   ]
  },
  {
   "cell_type": "code",
   "execution_count": 12,
   "metadata": {},
   "outputs": [],
   "source": [
    "def plot_graph_moving_average(x_axis, x_label, y_label, file_name, title):\n",
    "    plt.figure(figsize=(12, 5))\n",
    "    plt.plot(x_axis)\n",
    "    plt.xlabel(x_label)\n",
    "    plt.ylabel(y_label)\n",
    "    plt.title(title)\n",
    "    plt.legend(\"Moving average for model rewards\")\n",
    "    plt.savefig(\"out/merge/\" + file_name)"
   ]
  },
  {
   "cell_type": "code",
   "execution_count": 13,
   "metadata": {},
   "outputs": [],
   "source": [
    "def plot_graph(x_axis, y_axis, x_label, y_label, file_name, title, legend):\n",
    "    plt.plot(x_axis, y_axis, '-r', x_axis, y_axis, 'b')\n",
    "    plt.xlabel(x_label)\n",
    "    plt.ylabel(y_label)\n",
    "    plt.title(title)\n",
    "    plt.legend(legend[0], legend[1])\n",
    "    plt.savefig(\"out/merge/\" + file_name)"
   ]
  },
  {
   "cell_type": "markdown",
   "metadata": {},
   "source": [
    "Dodatna medota koja se koristi kako bi se preciznije video trend, u slucaju kada se losije vidi trend nagrada sa prosecnim nagradama po epizodi. "
   ]
  },
  {
   "cell_type": "code",
   "execution_count": 14,
   "metadata": {},
   "outputs": [],
   "source": [
    "def moving_average(values, window):\n",
    "    weights = np.repeat(1.0, window) / window\n",
    "    sma = np.convolve(values, weights, 'valid')\n",
    "    return sma"
   ]
  },
  {
   "cell_type": "markdown",
   "metadata": {},
   "source": [
    "Ovim korakom se model inicijalizuje, trenira i čuva u odgovarajućem .pt ili .pth formatu u sklopu pytorch biblioteke."
   ]
  },
  {
   "cell_type": "code",
   "execution_count": 16,
   "metadata": {},
   "outputs": [
    {
     "name": "stdout",
     "output_type": "stream",
     "text": [
      "EP NO:  0\n",
      "EP NO:  1\n",
      "EP NO:  2\n",
      "EP NO:  3\n",
      "EP NO:  4\n",
      "EP NO:  5\n",
      "EP NO:  6\n",
      "EP NO:  7\n",
      "EP NO:  8\n",
      "EP NO:  9\n",
      "EP NO:  10\n",
      "EP NO:  11\n",
      "EP NO:  12\n",
      "EP NO:  13\n",
      "EP NO:  14\n",
      "EP NO:  15\n",
      "EP NO:  16\n",
      "EP NO:  17\n",
      "EP NO:  18\n",
      "EP NO:  19\n",
      "EP NO:  20\n",
      "EP NO:  21\n",
      "EP NO:  22\n",
      "EP NO:  23\n",
      "EP NO:  24\n",
      "EP NO:  25\n",
      "EP NO:  26\n",
      "EP NO:  27\n",
      "EP NO:  28\n"
     ]
    }
   ],
   "source": [
    "learn_at = 2500\n",
    "epsilon = 0.87\n",
    "no_episodes_train = 10000\n",
    "\n",
    "learning_rate = 1e-5\n",
    "discount_factor = 0.99\n",
    "\n",
    "env = gym.make('merge-v0', render_mode='rgb_array')\n",
    "\n",
    "model = DQN(\n",
    "    discount_factor,\n",
    "    learn_at,\n",
    "    learning_rate,\n",
    "    env.action_space.n,\n",
    "    env.observation_space.shape[0],\n",
    "    epsilon,\n",
    "    no_episodes_train\n",
    ")\n",
    "out_loss = []\n",
    "rewards = []\n",
    "\n",
    "reward_in_scope = 0\n",
    "out_loss_in_scope = 0\n",
    "for i in range(0, no_episodes_train):\n",
    "        print(\"EP NO: \", i)\n",
    "        obs, info = env.reset()\n",
    "        done = truncated = False\n",
    "        cnt = 1\n",
    "        while not (done or truncated):\n",
    "            action = model.action_to_take(obs, env)\n",
    "            obs_next, reward, done, truncated, info = env.step(action)\n",
    "            if i > learn_at:\n",
    "                reward_in_scope += reward\n",
    "                out_loss_in_scope += model.replay(i, batch_size=256)\n",
    "                model.epsilon -= 0.00001\n",
    "                cnt += 1\n",
    "            model.update_replay_memory([obs, action, reward, obs_next])\n",
    "            # env.render()\n",
    "\n",
    "        out_loss.append(out_loss_in_scope) # NOTE: proveriti i uprosecavanje LOSS; \n",
    "        rewards.append(reward_in_scope/cnt)\n",
    "        reward_in_scope = 0\n",
    "        out_loss_in_scope = 0\n",
    "\n",
    "timeline = [i for i in range(0, len(rewards))]\n",
    "plot_graph(timeline, rewards, \"Timeline\", \"Rewards\", \"highway_rewards.jpg\", \"Mean rewards during training\", [\"Mean rewards points\", \"Reward trend\"])\n",
    "# save model\n",
    "torch.save(model, \"out/merge/model.pt\")\n",
    "print(\"--------------DONE TRAINING--------------\")"
   ]
  },
  {
   "cell_type": "code",
   "execution_count": null,
   "metadata": {},
   "outputs": [],
   "source": [
    "plot_graph(timeline, out_loss, \"Timeline\", \"Loss\", \"highway_loss.jpg\", \"Loss during training\", [\"Loss Points\", \"Loss func\"])"
   ]
  },
  {
   "cell_type": "markdown",
   "metadata": {},
   "source": [
    "U ovom koraku se prethodno trenirani model ucitava i pusta u rad na 1000 epizoda. Na osnovu tih epizoda se prikupljaju nagrade i prikazaju na graficima (loss i rewards). Pre toga se konfigurise okruzenje, gde se dodeljuju specificne vrednosti nagrada dobijene eksperimentalnim putem."
   ]
  },
  {
   "cell_type": "code",
   "execution_count": null,
   "metadata": {
    "metadata": {}
   },
   "outputs": [],
   "source": [
    "env.config['right_lane_reward'] = 0.76\n",
    "env.config['lane_change_reward'] = 0.15\n",
    "env.config['collision_reward'] = -0.1\n",
    "env.config['reward_speed_range'] = [20, 30]\n",
    "env.config['normalize_reward'] = False\n",
    "\n",
    "model = torch.load(\"out/merge/model.pt\")\n",
    "\n",
    "rewards_avg = []\n",
    "rewards = []\n",
    "eps = []\n",
    "ep_cnt_ = 0\n",
    "for i in range(500):\n",
    "  done = truncated = False\n",
    "  obs, info = env.reset()\n",
    "  cnt = 1\n",
    "  reward_ = 0\n",
    "  ep_cnt_ += 1\n",
    "  # print(ep_cnt_)\n",
    "  eps.append(ep_cnt_)\n",
    "  while not (done or truncated):\n",
    "    action = model.action_to_take(obs, env)\n",
    "    obs, reward, done, truncated, info = env.step(action)\n",
    "    reward_ += reward\n",
    "    cnt += 1\n",
    "    # env.render()\n",
    "  rewards.append(reward_)\n",
    "  rewards_avg.append(reward_/cnt)\n",
    "plot_graph(moving_average(rewards, 50), \"eps\", \"rewards\", \"model test\", \"Test\", 0)\n",
    "plot_graph(moving_average(rewards_avg, 50), \"eps\", \"rewards\", \"model test\", \"Test\", 1)"
   ]
  },
  {
   "cell_type": "markdown",
   "metadata": {},
   "source": [
    "Dodatna validacija uz pomoc stablebaseline modula i njihove implementacije DQN algoritma."
   ]
  },
  {
   "cell_type": "code",
   "execution_count": null,
   "metadata": {},
   "outputs": [],
   "source": [
    "from stable_baselines3 import DQN\n",
    "env_2 = gym.make('merge-v0', render_mode='rgb_array')\n",
    "model = DQN('MlpPolicy', env_2,\n",
    "              policy_kwargs=dict(net_arch=[256, 256]),\n",
    "              learning_rate=5e-4,\n",
    "              buffer_size=15000,\n",
    "              learning_starts=3000,\n",
    "              batch_size=128,\n",
    "              gamma=0.99,\n",
    "              train_freq=1,\n",
    "              gradient_steps=1,\n",
    "              target_update_interval=50,\n",
    "              verbose=1,\n",
    "              tensorboard_log=\"highway_dqn/\",\n",
    "              exploration_initial_eps = 0.9,\n",
    "              exploration_final_eps = 0.65\n",
    "            )\n",
    "\n",
    "model.learn(10000, progress_bar=True)\n",
    "model.save(\"highway_dqn/model\")"
   ]
  },
  {
   "cell_type": "code",
   "execution_count": null,
   "metadata": {},
   "outputs": [],
   "source": [
    "model.load(\"highway_dqn/model\")\n",
    "rewards_off_the_shelf = []\n",
    "for i in range(500):\n",
    "    done = truncated = False\n",
    "    obs, info = env.reset()\n",
    "    rewards_in_scope = 0\n",
    "    while not (done or truncated):\n",
    "        action, _ = model.predict(obs, deterministic=True)\n",
    "        _, rewards, done, truncated, _ = env.step(action)\n",
    "        rewards_in_scope += rewards\n",
    "        env.render()\n",
    "    print(i)\n",
    "    rewards_off_the_shelf.append(rewards_in_scope)\n",
    "\n",
    "plot_graph(moving_average(rewards_off_the_shelf, 50), \"Episodes\", \"Moving average\", None, \"Off the shelf rewards\", None)"
   ]
  }
 ],
 "metadata": {
  "kernelspec": {
   "display_name": "Python 3",
   "language": "python",
   "name": "python3"
  },
  "language_info": {
   "codemirror_mode": {
    "name": "ipython",
    "version": 3
   },
   "file_extension": ".py",
   "mimetype": "text/x-python",
   "name": "python",
   "nbconvert_exporter": "python",
   "pygments_lexer": "ipython3",
   "version": "3.8.10"
  }
 },
 "nbformat": 4,
 "nbformat_minor": 2
}
