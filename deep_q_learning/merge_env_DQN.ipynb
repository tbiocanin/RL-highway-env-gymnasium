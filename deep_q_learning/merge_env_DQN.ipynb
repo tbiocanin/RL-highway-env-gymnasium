{
 "cells": [
  {
   "cell_type": "markdown",
   "metadata": {},
   "source": [
    "Test skripta koja prikazuje rezultate rada rucne implementacije u poredjenju sa off-the-shelf implementacijom DQN algoritma u modelu ukljucenja na autoput."
   ]
  },
  {
   "cell_type": "code",
   "execution_count": null,
   "metadata": {},
   "outputs": [],
   "source": [
    "import gymnasium as gym\n",
    "import torch\n",
    "import matplotlib.pyplot as plt\n",
    "import numpy as np\n",
    "from stable_baselines3 import PPO\n",
    "\n",
    "env = gym.make('merge-v0', render_mode='rgb_array')\n",
    "obs, info = env.reset()"
   ]
  },
  {
   "cell_type": "markdown",
   "metadata": {},
   "source": [
    "Pomoćna funkcija koja se koristi za prikazivanje trenda nagrada tokom rada agenta."
   ]
  },
  {
   "cell_type": "code",
   "execution_count": null,
   "metadata": {},
   "outputs": [],
   "source": [
    "def plot_graph(x_axis, x_label, y_label, file_name, title, fig_no):\n",
    "    plt.figure(figsize=(12, 5))\n",
    "    plt.plot(x_axis)\n",
    "    plt.xlabel(x_label)\n",
    "    plt.ylabel(y_label)\n",
    "    plt.title(title)"
   ]
  },
  {
   "cell_type": "markdown",
   "metadata": {},
   "source": [
    "Dodatna medota koja se koristi kako bi se preciznije video trend, u slucaju kada se losije vidi trend nagrada sa prosecnim nagradama po epizodi. "
   ]
  },
  {
   "cell_type": "code",
   "execution_count": null,
   "metadata": {},
   "outputs": [],
   "source": [
    "def moving_average(values, window):\n",
    "    weights = np.repeat(1.0, window) / window\n",
    "    sma = np.convolve(values, weights, 'valid')\n",
    "    return sma"
   ]
  },
  {
   "cell_type": "markdown",
   "metadata": {},
   "source": [
    "U ovom koraku se prethodno trenirani model ucitava i pusta u rad na 1000 epizoda. Na osnovu tih epizoda se prikupljaju nagrade i prikazaju na graficima (loss i rewards). Pre toga se konfigurise okruzenje, gde se dodeljuju specificne vrednosti nagrada dobijene eksperimentalnim putem."
   ]
  },
  {
   "cell_type": "code",
   "execution_count": null,
   "metadata": {
    "metadata": {}
   },
   "outputs": [],
   "source": [
    "env.config['right_lane_reward'] = 0.76\n",
    "env.config['lane_change_reward'] = 0.15\n",
    "env.config['collision_reward'] = -0.1\n",
    "env.config['reward_speed_range'] = [20, 30]\n",
    "env.config['normalize_reward'] = False\n",
    "\n",
    "model = torch.load(\"out/stable/model2_debugged/model.pt\")\n",
    "\n",
    "rewards_avg = []\n",
    "rewards = []\n",
    "eps = []\n",
    "ep_cnt_ = 0\n",
    "for i in range(500):\n",
    "  done = truncated = False\n",
    "  obs, info = env.reset()\n",
    "  cnt = 1\n",
    "  reward_ = 0\n",
    "  ep_cnt_ += 1\n",
    "  # print(ep_cnt_)\n",
    "  eps.append(ep_cnt_)\n",
    "  while not (done or truncated):\n",
    "    action = model.action_to_take(obs, env)\n",
    "    obs, reward, done, truncated, info = env.step(action)\n",
    "    reward_ += reward\n",
    "    cnt += 1\n",
    "    # env.render()\n",
    "  rewards.append(reward_)\n",
    "  rewards_avg.append(reward_/cnt)\n",
    "plot_graph(moving_average(rewards, 50), \"eps\", \"rewards\", \"model test\", \"Test\", 0)\n",
    "plot_graph(moving_average(rewards_avg, 50), \"eps\", \"rewards\", \"model test\", \"Test\", 1)"
   ]
  },
  {
   "cell_type": "markdown",
   "metadata": {},
   "source": [
    "Dodatna validacija uz pomoc stablebaseline modula i njihove implementacije DQN algoritma."
   ]
  },
  {
   "cell_type": "code",
   "execution_count": null,
   "metadata": {},
   "outputs": [],
   "source": [
    "from stable_baselines3 import DQN\n",
    "env_2 = gym.make('merge-v0', render_mode='rgb_array')\n",
    "model = DQN('MlpPolicy', env_2,\n",
    "              policy_kwargs=dict(net_arch=[256, 256]),\n",
    "              learning_rate=5e-4,\n",
    "              buffer_size=15000,\n",
    "              learning_starts=3000,\n",
    "              batch_size=128,\n",
    "              gamma=0.99,\n",
    "              train_freq=1,\n",
    "              gradient_steps=1,\n",
    "              target_update_interval=50,\n",
    "              verbose=1,\n",
    "              tensorboard_log=\"highway_dqn/\",\n",
    "              exploration_initial_eps = 0.9,\n",
    "              exploration_final_eps = 0.65\n",
    "            )\n",
    "\n",
    "model.learn(10000, progress_bar=True)\n",
    "model.save(\"highway_dqn/model\")"
   ]
  },
  {
   "cell_type": "code",
   "execution_count": null,
   "metadata": {},
   "outputs": [],
   "source": [
    "model.load(\"highway_dqn/model\")\n",
    "rewards_off_the_shelf = []\n",
    "for i in range(500):\n",
    "    done = truncated = False\n",
    "    obs, info = env.reset()\n",
    "    rewards_in_scope = 0\n",
    "    while not (done or truncated):\n",
    "        action, _ = model.predict(obs, deterministic=True)\n",
    "        _, rewards, done, truncated, _ = env.step(action)\n",
    "        rewards_in_scope += rewards\n",
    "        env.render()\n",
    "    print(i)\n",
    "    rewards_off_the_shelf.append(rewards_in_scope)\n",
    "\n",
    "plot_graph(moving_average(rewards_off_the_shelf, 50), \"Episodes\", \"Moving average\", None, \"Off the shelf rewards\", None)"
   ]
  }
 ],
 "metadata": {
  "kernelspec": {
   "display_name": "Python 3",
   "language": "python",
   "name": "python3"
  },
  "language_info": {
   "codemirror_mode": {
    "name": "ipython",
    "version": 3
   },
   "file_extension": ".py",
   "mimetype": "text/x-python",
   "name": "python",
   "nbconvert_exporter": "python",
   "pygments_lexer": "ipython3",
   "version": "3.8.10"
  }
 },
 "nbformat": 4,
 "nbformat_minor": 2
}
