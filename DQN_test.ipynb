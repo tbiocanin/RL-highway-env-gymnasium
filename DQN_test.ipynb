{
 "cells": [
  {
   "cell_type": "code",
   "execution_count": null,
   "metadata": {},
   "outputs": [],
   "source": [
    "import gymnasium as gym\n",
    "import torch\n",
    "from DQN import DQN\n",
    "from stable_baselines3 import PPO\n",
    "\n",
    "env = gym.make('highway-v0', render_mode='rgb_array')\n",
    "obs, info = env.reset()\n",
    "# print(obs)\n",
    "env.unwrapped.config\n"
   ]
  },
  {
   "cell_type": "code",
   "execution_count": null,
   "metadata": {
    "metadata": {}
   },
   "outputs": [],
   "source": [
    "learn_at = 2500\n",
    "epsilon = 0.64\n",
    "no_episodes_train = 10000\n",
    "no_episodes_eval = 5000\n",
    "learning_rate = 0.00001\n",
    "discount_factor = 0.99\n",
    "model = DQN(\n",
    "        discount_factor,\n",
    "        learn_at,\n",
    "        learning_rate,\n",
    "        len(env.unwrapped.get_available_actions()),\n",
    "        env.observation_space.shape[0],\n",
    "        epsilon,\n",
    "        no_episodes_train\n",
    "    )\n",
    "model = torch.load(\"out/model.pt\")\n",
    "\n",
    "rewards = []\n",
    "eps = []\n",
    "ep_cnt_ = 0\n",
    "while True:\n",
    "  done = truncated = False\n",
    "  obs, info = env.reset()\n",
    "  cnt = 1\n",
    "  reward_ = 0\n",
    "  ep_cnt_ += 1\n",
    "  eps.append(ep_cnt_)\n",
    "  while not (done or truncated):\n",
    "    action = model.action_to_take(obs, env)\n",
    "    obs, reward, done, truncated, info = env.step(action)\n",
    "    reward_ += reward\n",
    "    cnt += 1\n",
    "    # env.render()\n",
    "  rewards.append(reward_)\n",
    "  model.plot_graph(eps, rewards, \"eps\", \"rewards\", \"model test\", \"Test\", 0)"
   ]
  },
  {
   "cell_type": "code",
   "execution_count": null,
   "metadata": {},
   "outputs": [],
   "source": [
    "model = PPO.load(\"highway_ppo/model\")\n",
    "while True:\n",
    "  done = truncated = False\n",
    "  obs, info = env.reset()\n",
    "  while not (done or truncated):\n",
    "    action, _states = model.predict(obs, deterministic=True)\n",
    "    obs, reward, done, truncated, info = env.step(action)\n",
    "    env.render()"
   ]
  }
 ],
 "metadata": {
  "kernelspec": {
   "display_name": "Python 3",
   "language": "python",
   "name": "python3"
  },
  "language_info": {
   "codemirror_mode": {
    "name": "ipython",
    "version": 3
   },
   "file_extension": ".py",
   "mimetype": "text/x-python",
   "name": "python",
   "nbconvert_exporter": "python",
   "pygments_lexer": "ipython3",
   "version": "3.8.10"
  }
 },
 "nbformat": 4,
 "nbformat_minor": 2
}
